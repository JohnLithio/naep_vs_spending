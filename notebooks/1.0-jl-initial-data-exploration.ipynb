{
 "cells": [
  {
   "cell_type": "code",
   "execution_count": 1,
   "metadata": {},
   "outputs": [],
   "source": [
    "import pandas as pd"
   ]
  },
  {
   "cell_type": "code",
   "execution_count": 7,
   "metadata": {},
   "outputs": [
    {
     "data": {
      "text/plain": [
       "57199.0"
      ]
     },
     "execution_count": 7,
     "metadata": {},
     "output_type": "execute_result"
    }
   ],
   "source": [
    "y12 = 5753\n",
    "y10 = 5263\n",
    "y08 = 4663\n",
    "y06 = 4122\n",
    "y04 = 3915\n",
    "y02 = 3648\n",
    "y0k = 3565\n",
    "\n",
    "y11 = (y12+y10)/2\n",
    "y09 = (y10+y08)/2\n",
    "y07 = (y08+y06)/2\n",
    "y05 = (y06+y04)/2\n",
    "y03 = (y04+y02)/2\n",
    "y01 = (y02+y0k)/2\n",
    "\n",
    "y0k+y01+y02+y03+y04+y05+y06+y07+y08+y09+y10+y11+y12"
   ]
  },
  {
   "cell_type": "code",
   "execution_count": 8,
   "metadata": {},
   "outputs": [
    {
     "data": {
      "text/plain": [
       "55414.0"
      ]
     },
     "execution_count": 8,
     "metadata": {},
     "output_type": "execute_result"
    }
   ],
   "source": [
    "y12 = 5558\n",
    "y11 = 5296\n",
    "y09 = 4895\n",
    "y07 = 4329\n",
    "y05 = 3837\n",
    "y03 = 3674\n",
    "y01 = 3408\n",
    "y00 = 3252\n",
    "\n",
    "y10 = (y11+y09)/2\n",
    "y08 = (y09+y07)/2\n",
    "y06 = (y07+y05)/2\n",
    "y04 = (y05+y03)/2\n",
    "y02 = (y03+y01)/2\n",
    "y0k = (y01+y00)/2\n",
    "\n",
    "y0k+y01+y02+y03+y04+y05+y06+y07+y08+y09+y10+y11+y12"
   ]
  },
  {
   "cell_type": "code",
   "execution_count": 13,
   "metadata": {},
   "outputs": [
    {
     "data": {
      "text/plain": [
       "152355"
      ]
     },
     "execution_count": 13,
     "metadata": {},
     "output_type": "execute_result"
    }
   ],
   "source": [
    "years = [\n",
    "    13141,\n",
    "    13063,\n",
    "    12757,\n",
    "    12349,\n",
    "    12187,\n",
    "    12005,\n",
    "    11842,\n",
    "    11690,\n",
    "    11363,\n",
    "    10996,\n",
    "    10690,\n",
    "    10319,\n",
    "    9953,\n",
    "]\n",
    "sum(years)"
   ]
  }
 ],
 "metadata": {
  "kernelspec": {
   "display_name": "Python 3",
   "language": "python",
   "name": "python3"
  },
  "language_info": {
   "codemirror_mode": {
    "name": "ipython",
    "version": 3
   },
   "file_extension": ".py",
   "mimetype": "text/x-python",
   "name": "python",
   "nbconvert_exporter": "python",
   "pygments_lexer": "ipython3",
   "version": "3.7.6"
  }
 },
 "nbformat": 4,
 "nbformat_minor": 4
}
